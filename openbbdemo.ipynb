{
  "nbformat": 4,
  "nbformat_minor": 0,
  "metadata": {
    "colab": {
      "provenance": [],
      "authorship_tag": "ABX9TyOBc9V28XVHbA+HPl0uUWOm",
      "include_colab_link": true
    },
    "kernelspec": {
      "name": "python3",
      "display_name": "Python 3"
    },
    "language_info": {
      "name": "python"
    }
  },
  "cells": [
    {
      "cell_type": "markdown",
      "metadata": {
        "id": "view-in-github",
        "colab_type": "text"
      },
      "source": [
        "<a href=\"https://colab.research.google.com/github/Bajeeraok/DataScience_Projects/blob/main/openbbdemo.ipynb\" target=\"_parent\"><img src=\"https://colab.research.google.com/assets/colab-badge.svg\" alt=\"Open In Colab\"/></a>"
      ]
    },
    {
      "cell_type": "code",
      "execution_count": null,
      "metadata": {
        "colab": {
          "base_uri": "https://localhost:8080/"
        },
        "id": "0I4oCp6E4hwl",
        "outputId": "a866ecb4-2e9d-4b81-abf0-43277f2df222"
      },
      "outputs": [
        {
          "output_type": "stream",
          "name": "stdout",
          "text": [
            "Collecting openbb\n",
            "  Downloading openbb-4.4.4-py3-none-any.whl.metadata (12 kB)\n",
            "Collecting openbb-benzinga<2.0.0,>=1.4.1 (from openbb)\n",
            "  Downloading openbb_benzinga-1.4.1-py3-none-any.whl.metadata (882 bytes)\n",
            "Collecting openbb-bls<2.0.0,>=1.1.2 (from openbb)\n",
            "  Downloading openbb_bls-1.1.2-py3-none-any.whl.metadata (1.2 kB)\n",
            "Collecting openbb-cftc<2.0.0,>=1.1.1 (from openbb)\n",
            "  Downloading openbb_cftc-1.1.1-py3-none-any.whl.metadata (1.4 kB)\n",
            "Collecting openbb-commodity<2.0.0,>=1.3.1 (from openbb)\n",
            "  Downloading openbb_commodity-1.3.1-py3-none-any.whl.metadata (904 bytes)\n",
            "Collecting openbb-core<2.0.0,>=1.4.6 (from openbb)\n",
            "  Downloading openbb_core-1.4.7-py3-none-any.whl.metadata (3.4 kB)\n",
            "Collecting openbb-crypto<2.0.0,>=1.4.1 (from openbb)\n",
            "  Downloading openbb_crypto-1.4.1-py3-none-any.whl.metadata (896 bytes)\n",
            "Collecting openbb-currency<2.0.0,>=1.4.1 (from openbb)\n",
            "  Downloading openbb_currency-1.4.1-py3-none-any.whl.metadata (897 bytes)\n",
            "Collecting openbb-derivatives<2.0.0,>=1.4.1 (from openbb)\n",
            "  Downloading openbb_derivatives-1.4.1-py3-none-any.whl.metadata (861 bytes)\n",
            "Collecting openbb-econdb<2.0.0,>=1.3.1 (from openbb)\n",
            "  Downloading openbb_econdb-1.3.1-py3-none-any.whl.metadata (965 bytes)\n",
            "Collecting openbb-economy<2.0.0,>=1.4.2 (from openbb)\n",
            "  Downloading openbb_economy-1.4.2-py3-none-any.whl.metadata (902 bytes)\n",
            "Collecting openbb-equity<2.0.0,>=1.4.1 (from openbb)\n",
            "  Downloading openbb_equity-1.4.1-py3-none-any.whl.metadata (1.4 kB)\n",
            "Collecting openbb-etf<2.0.0,>=1.4.1 (from openbb)\n",
            "  Downloading openbb_etf-1.4.1-py3-none-any.whl.metadata (781 bytes)\n",
            "Collecting openbb-federal-reserve<2.0.0,>=1.4.2 (from openbb)\n",
            "  Downloading openbb_federal_reserve-1.4.3-py3-none-any.whl.metadata (982 bytes)\n",
            "Collecting openbb-fixedincome<2.0.0,>=1.4.3 (from openbb)\n",
            "  Downloading openbb_fixedincome-1.4.3-py3-none-any.whl.metadata (1.0 kB)\n",
            "Collecting openbb-fmp<2.0.0,>=1.4.2 (from openbb)\n",
            "  Downloading openbb_fmp-1.4.2-py3-none-any.whl.metadata (911 bytes)\n",
            "Collecting openbb-fred<2.0.0,>=1.4.4 (from openbb)\n",
            "  Downloading openbb_fred-1.4.4-py3-none-any.whl.metadata (879 bytes)\n",
            "Collecting openbb-imf<2.0.0,>=1.1.1 (from openbb)\n",
            "  Downloading openbb_imf-1.1.1-py3-none-any.whl.metadata (1.6 kB)\n",
            "Collecting openbb-index<2.0.0,>=1.4.1 (from openbb)\n",
            "  Downloading openbb_index-1.4.1-py3-none-any.whl.metadata (897 bytes)\n",
            "Collecting openbb-intrinio<2.0.0,>=1.4.1 (from openbb)\n",
            "  Downloading openbb_intrinio-1.4.1-py3-none-any.whl.metadata (925 bytes)\n",
            "Collecting openbb-news<2.0.0,>=1.4.1 (from openbb)\n",
            "  Downloading openbb_news-1.4.1-py3-none-any.whl.metadata (855 bytes)\n",
            "Collecting openbb-oecd<2.0.0,>=1.4.1 (from openbb)\n",
            "  Downloading openbb_oecd-1.4.1-py3-none-any.whl.metadata (939 bytes)\n",
            "Collecting openbb-platform-api<2.0.0,>=1.1.6 (from openbb)\n",
            "  Downloading openbb_platform_api-1.1.10-py3-none-any.whl.metadata (21 kB)\n",
            "Collecting openbb-polygon<2.0.0,>=1.4.1 (from openbb)\n",
            "  Downloading openbb_polygon-1.4.1-py3-none-any.whl.metadata (871 bytes)\n",
            "Collecting openbb-regulators<2.0.0,>=1.4.2 (from openbb)\n",
            "  Downloading openbb_regulators-1.4.2-py3-none-any.whl.metadata (936 bytes)\n",
            "Collecting openbb-sec<2.0.0,>=1.4.3 (from openbb)\n",
            "  Downloading openbb_sec-1.4.3-py3-none-any.whl.metadata (1.2 kB)\n",
            "Collecting openbb-tiingo<2.0.0,>=1.4.1 (from openbb)\n",
            "  Downloading openbb_tiingo-1.4.1-py3-none-any.whl.metadata (870 bytes)\n",
            "Collecting openbb-tradingeconomics<2.0.0,>=1.4.1 (from openbb)\n",
            "  Downloading openbb_tradingeconomics-1.4.1-py3-none-any.whl.metadata (929 bytes)\n",
            "Collecting openbb-us-eia<2.0.0,>=1.1.1 (from openbb)\n",
            "  Downloading openbb_us_eia-1.1.1-py3-none-any.whl.metadata (4.8 kB)\n",
            "Collecting openbb-yfinance<2.0.0,>=1.4.3 (from openbb)\n",
            "  Downloading openbb_yfinance-1.4.6-py3-none-any.whl.metadata (979 bytes)\n",
            "Requirement already satisfied: aiohttp<4.0.0,>=3.11.11 in /usr/local/lib/python3.11/dist-packages (from openbb-core<2.0.0,>=1.4.6->openbb) (3.11.15)\n",
            "Requirement already satisfied: fastapi<0.116,>=0.115 in /usr/local/lib/python3.11/dist-packages (from openbb-core<2.0.0,>=1.4.6->openbb) (0.115.12)\n",
            "Requirement already satisfied: html5lib<2.0,>=1.1 in /usr/local/lib/python3.11/dist-packages (from openbb-core<2.0.0,>=1.4.6->openbb) (1.1)\n",
            "Requirement already satisfied: importlib-metadata>=6.8.0 in /usr/local/lib/python3.11/dist-packages (from openbb-core<2.0.0,>=1.4.6->openbb) (8.7.0)\n",
            "Requirement already satisfied: pandas>=1.5.3 in /usr/local/lib/python3.11/dist-packages (from openbb-core<2.0.0,>=1.4.6->openbb) (2.2.2)\n",
            "Collecting posthog<4.0.0,>=3.3.1 (from openbb-core<2.0.0,>=1.4.6->openbb)\n",
            "  Downloading posthog-3.25.0-py2.py3-none-any.whl.metadata (3.0 kB)\n",
            "Requirement already satisfied: pydantic<3.0.0,>=2.5.1 in /usr/local/lib/python3.11/dist-packages (from openbb-core<2.0.0,>=1.4.6->openbb) (2.11.7)\n",
            "Requirement already satisfied: pyjwt<3.0.0,>=2.10.1 in /usr/local/lib/python3.11/dist-packages (from openbb-core<2.0.0,>=1.4.6->openbb) (2.10.1)\n",
            "Collecting python-dotenv<2.0.0,>=1.0.0 (from openbb-core<2.0.0,>=1.4.6->openbb)\n",
            "  Downloading python_dotenv-1.1.1-py3-none-any.whl.metadata (24 kB)\n",
            "Requirement already satisfied: python-multipart<0.0.21,>=0.0.20 in /usr/local/lib/python3.11/dist-packages (from openbb-core<2.0.0,>=1.4.6->openbb) (0.0.20)\n",
            "Requirement already satisfied: requests<3.0.0,>=2.32.1 in /usr/local/lib/python3.11/dist-packages (from openbb-core<2.0.0,>=1.4.6->openbb) (2.32.3)\n",
            "Collecting ruff<0.8,>=0.7 (from openbb-core<2.0.0,>=1.4.6->openbb)\n",
            "  Downloading ruff-0.7.4-py3-none-manylinux_2_17_x86_64.manylinux2014_x86_64.whl.metadata (25 kB)\n",
            "Collecting uuid7<0.2.0,>=0.1.0 (from openbb-core<2.0.0,>=1.4.6->openbb)\n",
            "  Downloading uuid7-0.1.0-py2.py3-none-any.whl.metadata (3.6 kB)\n",
            "Requirement already satisfied: uvicorn<0.35.0,>=0.34.2 in /usr/local/lib/python3.11/dist-packages (from openbb-core<2.0.0,>=1.4.6->openbb) (0.34.3)\n",
            "Requirement already satisfied: websockets<16.0,>=15.0 in /usr/local/lib/python3.11/dist-packages (from openbb-core<2.0.0,>=1.4.6->openbb) (15.0.1)\n",
            "Collecting aiohttp-client-cache<0.12.0,>=0.11.0 (from openbb-econdb<2.0.0,>=1.3.1->openbb)\n",
            "  Downloading aiohttp_client_cache-0.11.1-py3-none-any.whl.metadata (7.5 kB)\n",
            "Collecting aiosqlite<0.21.0,>=0.20.0 (from openbb-econdb<2.0.0,>=1.3.1->openbb)\n",
            "  Downloading aiosqlite-0.20.0-py3-none-any.whl.metadata (4.3 kB)\n",
            "Requirement already satisfied: beautifulsoup4<5.0.0,>=4.13.4 in /usr/local/lib/python3.11/dist-packages (from openbb-federal-reserve<2.0.0,>=1.4.2->openbb) (4.13.4)\n",
            "Collecting requests-cache<2.0.0,>=1.1.0 (from openbb-intrinio<2.0.0,>=1.4.1->openbb)\n",
            "  Downloading requests_cache-1.2.1-py3-none-any.whl.metadata (9.9 kB)\n",
            "Collecting defusedxml<0.9.0,>=0.8.0rc2 (from openbb-oecd<2.0.0,>=1.4.1->openbb)\n",
            "  Downloading defusedxml-0.8.0rc2-py2.py3-none-any.whl.metadata (33 kB)\n",
            "Requirement already satisfied: urllib3>1.26.16 in /usr/local/lib/python3.11/dist-packages (from openbb-oecd<2.0.0,>=1.4.1->openbb) (2.4.0)\n",
            "Collecting deepdiff (from openbb-platform-api<2.0.0,>=1.1.6->openbb)\n",
            "  Downloading deepdiff-8.5.0-py3-none-any.whl.metadata (8.2 kB)\n",
            "Collecting inscriptis<3.0.0,>=2.5.3 (from openbb-sec<2.0.0,>=1.4.3->openbb)\n",
            "  Downloading inscriptis-2.6.0-py3-none-any.whl.metadata (25 kB)\n",
            "Requirement already satisfied: lxml<6.0.0,>=5.2.1 in /usr/local/lib/python3.11/dist-packages (from openbb-sec<2.0.0,>=1.4.3->openbb) (5.4.0)\n",
            "Collecting trafilatura<3.0,>=2.0 (from openbb-sec<2.0.0,>=1.4.3->openbb)\n",
            "  Downloading trafilatura-2.0.0-py3-none-any.whl.metadata (12 kB)\n",
            "Collecting xmltodict<0.14.0,>=0.13.0 (from openbb-sec<2.0.0,>=1.4.3->openbb)\n",
            "  Downloading xmltodict-0.13.0-py2.py3-none-any.whl.metadata (7.7 kB)\n",
            "Collecting async-lru<3.0.0,>=2.0.4 (from openbb-us-eia<2.0.0,>=1.1.1->openbb)\n",
            "  Downloading async_lru-2.0.5-py3-none-any.whl.metadata (4.5 kB)\n",
            "Requirement already satisfied: openpyxl<4.0.0,>=3.1.5 in /usr/local/lib/python3.11/dist-packages (from openbb-us-eia<2.0.0,>=1.1.1->openbb) (3.1.5)\n",
            "Requirement already satisfied: xlrd<3.0.0,>=2.0.1 in /usr/local/lib/python3.11/dist-packages (from openbb-us-eia<2.0.0,>=1.1.1->openbb) (2.0.2)\n",
            "Collecting curl-adapter<2.0.0,>=1.0.0.post3 (from openbb-yfinance<2.0.0,>=1.4.3->openbb)\n",
            "  Downloading curl_adapter-1.1.0-py3-none-any.whl.metadata (6.5 kB)\n",
            "Collecting yfinance==0.2.58 (from openbb-yfinance<2.0.0,>=1.4.3->openbb)\n",
            "  Downloading yfinance-0.2.58-py2.py3-none-any.whl.metadata (5.5 kB)\n",
            "Requirement already satisfied: numpy>=1.16.5 in /usr/local/lib/python3.11/dist-packages (from yfinance==0.2.58->openbb-yfinance<2.0.0,>=1.4.3->openbb) (2.0.2)\n",
            "Requirement already satisfied: multitasking>=0.0.7 in /usr/local/lib/python3.11/dist-packages (from yfinance==0.2.58->openbb-yfinance<2.0.0,>=1.4.3->openbb) (0.0.11)\n",
            "Requirement already satisfied: platformdirs>=2.0.0 in /usr/local/lib/python3.11/dist-packages (from yfinance==0.2.58->openbb-yfinance<2.0.0,>=1.4.3->openbb) (4.3.8)\n",
            "Requirement already satisfied: pytz>=2022.5 in /usr/local/lib/python3.11/dist-packages (from yfinance==0.2.58->openbb-yfinance<2.0.0,>=1.4.3->openbb) (2025.2)\n",
            "Requirement already satisfied: frozendict>=2.3.4 in /usr/local/lib/python3.11/dist-packages (from yfinance==0.2.58->openbb-yfinance<2.0.0,>=1.4.3->openbb) (2.4.6)\n",
            "Requirement already satisfied: peewee>=3.16.2 in /usr/local/lib/python3.11/dist-packages (from yfinance==0.2.58->openbb-yfinance<2.0.0,>=1.4.3->openbb) (3.18.1)\n",
            "Requirement already satisfied: curl_cffi>=0.7 in /usr/local/lib/python3.11/dist-packages (from yfinance==0.2.58->openbb-yfinance<2.0.0,>=1.4.3->openbb) (0.11.3)\n",
            "Requirement already satisfied: aiohappyeyeballs>=2.3.0 in /usr/local/lib/python3.11/dist-packages (from aiohttp<4.0.0,>=3.11.11->openbb-core<2.0.0,>=1.4.6->openbb) (2.6.1)\n",
            "Requirement already satisfied: aiosignal>=1.1.2 in /usr/local/lib/python3.11/dist-packages (from aiohttp<4.0.0,>=3.11.11->openbb-core<2.0.0,>=1.4.6->openbb) (1.3.2)\n",
            "Requirement already satisfied: attrs>=17.3.0 in /usr/local/lib/python3.11/dist-packages (from aiohttp<4.0.0,>=3.11.11->openbb-core<2.0.0,>=1.4.6->openbb) (25.3.0)\n",
            "Requirement already satisfied: frozenlist>=1.1.1 in /usr/local/lib/python3.11/dist-packages (from aiohttp<4.0.0,>=3.11.11->openbb-core<2.0.0,>=1.4.6->openbb) (1.7.0)\n",
            "Requirement already satisfied: multidict<7.0,>=4.5 in /usr/local/lib/python3.11/dist-packages (from aiohttp<4.0.0,>=3.11.11->openbb-core<2.0.0,>=1.4.6->openbb) (6.4.4)\n",
            "Requirement already satisfied: propcache>=0.2.0 in /usr/local/lib/python3.11/dist-packages (from aiohttp<4.0.0,>=3.11.11->openbb-core<2.0.0,>=1.4.6->openbb) (0.3.2)\n",
            "Requirement already satisfied: yarl<2.0,>=1.17.0 in /usr/local/lib/python3.11/dist-packages (from aiohttp<4.0.0,>=3.11.11->openbb-core<2.0.0,>=1.4.6->openbb) (1.20.1)\n",
            "Requirement already satisfied: itsdangerous>=2.0 in /usr/local/lib/python3.11/dist-packages (from aiohttp-client-cache<0.12.0,>=0.11.0->openbb-econdb<2.0.0,>=1.3.1->openbb) (2.2.0)\n",
            "Collecting url-normalize<2.0,>=1.4 (from aiohttp-client-cache<0.12.0,>=0.11.0->openbb-econdb<2.0.0,>=1.3.1->openbb)\n",
            "  Downloading url_normalize-1.4.3-py2.py3-none-any.whl.metadata (3.1 kB)\n",
            "Requirement already satisfied: typing_extensions>=4.0 in /usr/local/lib/python3.11/dist-packages (from aiosqlite<0.21.0,>=0.20.0->openbb-econdb<2.0.0,>=1.3.1->openbb) (4.14.0)\n",
            "Requirement already satisfied: soupsieve>1.2 in /usr/local/lib/python3.11/dist-packages (from beautifulsoup4<5.0.0,>=4.13.4->openbb-federal-reserve<2.0.0,>=1.4.2->openbb) (2.7)\n",
            "Collecting pycurl>=7.45.5 (from curl-adapter<2.0.0,>=1.0.0.post3->openbb-yfinance<2.0.0,>=1.4.3->openbb)\n",
            "  Downloading pycurl-7.45.6-cp311-cp311-manylinux_2_28_x86_64.whl.metadata (4.6 kB)\n",
            "Collecting brotli (from curl-adapter<2.0.0,>=1.0.0.post3->openbb-yfinance<2.0.0,>=1.4.3->openbb)\n",
            "  Downloading Brotli-1.1.0-cp311-cp311-manylinux_2_17_x86_64.manylinux2014_x86_64.whl.metadata (5.5 kB)\n"
          ]
        }
      ],
      "source": [
        "pip install openbb"
      ]
    },
    {
      "cell_type": "code",
      "source": [
        "from openbb import obb"
      ],
      "metadata": {
        "colab": {
          "base_uri": "https://localhost:8080/"
        },
        "id": "yHpi4sh-5zR0",
        "outputId": "c09fbe89-dd3e-4f86-b4fb-dd08f6fe2d99"
      },
      "execution_count": 1,
      "outputs": [
        {
          "output_type": "stream",
          "name": "stdout",
          "text": [
            "Extensions to add: federal_reserve@1.4.3, yfinance@1.4.6\n",
            "Extensions to remove: federal_reserve@1.4.2, yfinance@1.4.3\n",
            "\n",
            "Building...\n"
          ]
        }
      ]
    }
  ]
}